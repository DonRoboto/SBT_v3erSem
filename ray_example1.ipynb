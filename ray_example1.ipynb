{
  "nbformat": 4,
  "nbformat_minor": 0,
  "metadata": {
    "colab": {
      "provenance": [],
      "authorship_tag": "ABX9TyMTeZ2EGJKfsXYRE9reEVvX",
      "include_colab_link": true
    },
    "kernelspec": {
      "name": "python3",
      "display_name": "Python 3"
    },
    "language_info": {
      "name": "python"
    }
  },
  "cells": [
    {
      "cell_type": "markdown",
      "metadata": {
        "id": "view-in-github",
        "colab_type": "text"
      },
      "source": [
        "<a href=\"https://colab.research.google.com/github/DonRoboto/SBT_v3erSem/blob/main/ray_example1.ipynb\" target=\"_parent\"><img src=\"https://colab.research.google.com/assets/colab-badge.svg\" alt=\"Open In Colab\"/></a>"
      ]
    },
    {
      "cell_type": "code",
      "execution_count": 3,
      "metadata": {
        "colab": {
          "base_uri": "https://localhost:8080/"
        },
        "id": "9IjqxEiB_hzz",
        "outputId": "35e3ac77-fc34-4eff-9406-a6503b68c8d5"
      },
      "outputs": [
        {
          "output_type": "stream",
          "name": "stdout",
          "text": [
            "Collecting ray\n",
            "  Downloading ray-2.8.1-cp310-cp310-manylinux2014_x86_64.whl (62.6 MB)\n",
            "\u001b[2K     \u001b[90m━━━━━━━━━━━━━━━━━━━━━━━━━━━━━━━━━━━━━━━━\u001b[0m \u001b[32m62.6/62.6 MB\u001b[0m \u001b[31m12.0 MB/s\u001b[0m eta \u001b[36m0:00:00\u001b[0m\n",
            "\u001b[?25hRequirement already satisfied: click>=7.0 in /usr/local/lib/python3.10/dist-packages (from ray) (8.1.7)\n",
            "Requirement already satisfied: filelock in /usr/local/lib/python3.10/dist-packages (from ray) (3.13.1)\n",
            "Requirement already satisfied: jsonschema in /usr/local/lib/python3.10/dist-packages (from ray) (4.19.2)\n",
            "Requirement already satisfied: msgpack<2.0.0,>=1.0.0 in /usr/local/lib/python3.10/dist-packages (from ray) (1.0.7)\n",
            "Requirement already satisfied: packaging in /usr/local/lib/python3.10/dist-packages (from ray) (23.2)\n",
            "Requirement already satisfied: protobuf!=3.19.5,>=3.15.3 in /usr/local/lib/python3.10/dist-packages (from ray) (3.20.3)\n",
            "Requirement already satisfied: pyyaml in /usr/local/lib/python3.10/dist-packages (from ray) (6.0.1)\n",
            "Requirement already satisfied: aiosignal in /usr/local/lib/python3.10/dist-packages (from ray) (1.3.1)\n",
            "Requirement already satisfied: frozenlist in /usr/local/lib/python3.10/dist-packages (from ray) (1.4.0)\n",
            "Requirement already satisfied: requests in /usr/local/lib/python3.10/dist-packages (from ray) (2.31.0)\n",
            "Requirement already satisfied: numpy>=1.19.3 in /usr/local/lib/python3.10/dist-packages (from ray) (1.23.5)\n",
            "Requirement already satisfied: attrs>=22.2.0 in /usr/local/lib/python3.10/dist-packages (from jsonschema->ray) (23.1.0)\n",
            "Requirement already satisfied: jsonschema-specifications>=2023.03.6 in /usr/local/lib/python3.10/dist-packages (from jsonschema->ray) (2023.11.2)\n",
            "Requirement already satisfied: referencing>=0.28.4 in /usr/local/lib/python3.10/dist-packages (from jsonschema->ray) (0.31.1)\n",
            "Requirement already satisfied: rpds-py>=0.7.1 in /usr/local/lib/python3.10/dist-packages (from jsonschema->ray) (0.13.2)\n",
            "Requirement already satisfied: charset-normalizer<4,>=2 in /usr/local/lib/python3.10/dist-packages (from requests->ray) (3.3.2)\n",
            "Requirement already satisfied: idna<4,>=2.5 in /usr/local/lib/python3.10/dist-packages (from requests->ray) (3.6)\n",
            "Requirement already satisfied: urllib3<3,>=1.21.1 in /usr/local/lib/python3.10/dist-packages (from requests->ray) (2.0.7)\n",
            "Requirement already satisfied: certifi>=2017.4.17 in /usr/local/lib/python3.10/dist-packages (from requests->ray) (2023.11.17)\n",
            "Installing collected packages: ray\n",
            "Successfully installed ray-2.8.1\n"
          ]
        }
      ],
      "source": [
        "!pip install ray"
      ]
    },
    {
      "cell_type": "code",
      "source": [
        "!pip install gymnasium"
      ],
      "metadata": {
        "colab": {
          "base_uri": "https://localhost:8080/"
        },
        "id": "ClphVHBHAneR",
        "outputId": "9e813b42-3487-48aa-84cf-b6ebe9800dad"
      },
      "execution_count": 6,
      "outputs": [
        {
          "output_type": "stream",
          "name": "stdout",
          "text": [
            "Collecting gymnasium\n",
            "  Downloading gymnasium-0.29.1-py3-none-any.whl (953 kB)\n",
            "\u001b[2K     \u001b[90m━━━━━━━━━━━━━━━━━━━━━━━━━━━━━━━━━━━━━━━━\u001b[0m \u001b[32m953.9/953.9 kB\u001b[0m \u001b[31m11.5 MB/s\u001b[0m eta \u001b[36m0:00:00\u001b[0m\n",
            "\u001b[?25hRequirement already satisfied: numpy>=1.21.0 in /usr/local/lib/python3.10/dist-packages (from gymnasium) (1.23.5)\n",
            "Requirement already satisfied: cloudpickle>=1.2.0 in /usr/local/lib/python3.10/dist-packages (from gymnasium) (2.2.1)\n",
            "Requirement already satisfied: typing-extensions>=4.3.0 in /usr/local/lib/python3.10/dist-packages (from gymnasium) (4.5.0)\n",
            "Collecting farama-notifications>=0.0.1 (from gymnasium)\n",
            "  Downloading Farama_Notifications-0.0.4-py3-none-any.whl (2.5 kB)\n",
            "Installing collected packages: farama-notifications, gymnasium\n",
            "Successfully installed farama-notifications-0.0.4 gymnasium-0.29.1\n"
          ]
        }
      ]
    },
    {
      "cell_type": "code",
      "source": [
        "import random\n",
        "\n",
        "import ray\n",
        "from ray import train, tune\n",
        "from ray.tune.schedulers import PopulationBasedTraining\n"
      ],
      "metadata": {
        "id": "PioXljRAAcjf"
      },
      "execution_count": 10,
      "outputs": []
    },
    {
      "cell_type": "code",
      "source": [
        "\n",
        "if __name__ == \"__main__\":\n",
        "    import argparse\n",
        "\n",
        "    parser = argparse.ArgumentParser()\n",
        "    parser.add_argument(\n",
        "        \"--smoke-test\", action=\"store_true\", help=\"Finish quickly for testing\"\n",
        "    )\n",
        "    args, _ = parser.parse_known_args()\n",
        "\n",
        "    # Postprocess the perturbed config to ensure it's still valid\n",
        "    def explore(config):\n",
        "        # ensure we collect enough timesteps to do sgd\n",
        "        if config[\"train_batch_size\"] < config[\"sgd_minibatch_size\"] * 2:\n",
        "            config[\"train_batch_size\"] = config[\"sgd_minibatch_size\"] * 2\n",
        "        # ensure we run at least one sgd iter\n",
        "        if config[\"num_sgd_iter\"] < 1:\n",
        "            config[\"num_sgd_iter\"] = 1\n",
        "        return config\n",
        "\n",
        "    hyperparam_mutations = {\n",
        "        \"lambda\": lambda: random.uniform(0.9, 1.0),\n",
        "        \"clip_param\": lambda: random.uniform(0.01, 0.5),\n",
        "        \"lr\": [1e-3, 5e-4, 1e-4, 5e-5, 1e-5],\n",
        "        \"num_sgd_iter\": lambda: random.randint(1, 30),\n",
        "        \"sgd_minibatch_size\": lambda: random.randint(128, 16384),\n",
        "        \"train_batch_size\": lambda: random.randint(2000, 160000),\n",
        "    }\n",
        "\n",
        "    pbt = PopulationBasedTraining(\n",
        "        time_attr=\"time_total_s\",\n",
        "        perturbation_interval=120,\n",
        "        resample_probability=0.25,\n",
        "        # Specifies the mutations of these hyperparams\n",
        "        hyperparam_mutations=hyperparam_mutations,\n",
        "        custom_explore_fn=explore,\n",
        "    )\n",
        "\n",
        "    # Stop when we've either reached 100 training iterations or reward=300\n",
        "    stopping_criteria = {\"training_iteration\": 100, \"episode_reward_mean\": 300}\n",
        "\n",
        "    tuner = tune.Tuner(\n",
        "        \"PPO\",\n",
        "        tune_config=tune.TuneConfig(\n",
        "            metric=\"episode_reward_mean\",\n",
        "            mode=\"max\",\n",
        "            scheduler=pbt,\n",
        "            num_samples=1 if args.smoke_test else 2,\n",
        "        ),\n",
        "        param_space={\n",
        "            #\"env\": \"Humanoid-v2\",\n",
        "            \"env\": \"CartPole-v2\",\n",
        "            \"kl_coeff\": 1.0,\n",
        "            \"num_workers\": 4,\n",
        "            \"num_cpus\": 1,  # number of CPUs to use per trial\n",
        "            \"num_gpus\": 0,  # number of GPUs to use per trial\n",
        "            \"model\": {\"free_log_std\": True},\n",
        "            # These params are tuned from a fixed starting value.\n",
        "            \"lambda\": 0.95,\n",
        "            \"clip_param\": 0.2,\n",
        "            \"lr\": 1e-4,\n",
        "            # These params start off randomly drawn from a set.\n",
        "            \"num_sgd_iter\": tune.choice([10, 20, 30]),\n",
        "            \"sgd_minibatch_size\": tune.choice([128, 512, 2048]),\n",
        "            \"train_batch_size\": tune.choice([10000, 20000, 40000]),\n",
        "        },\n",
        "        run_config=train.RunConfig(stop=stopping_criteria),\n",
        "    )\n",
        "    results = tuner.fit()"
      ],
      "metadata": {
        "colab": {
          "base_uri": "https://localhost:8080/"
        },
        "id": "T51bzB74AYjz",
        "outputId": "fd53ab52-07bd-4d0e-ada1-da6ae14a069a"
      },
      "execution_count": 11,
      "outputs": [
        {
          "output_type": "stream",
          "name": "stderr",
          "text": [
            "2023-12-07 02:13:45,092\tINFO tune.py:595 -- [output] This will use the new output engine with verbosity 1. To disable the new output and use the legacy output engine, set the environment variable RAY_AIR_NEW_OUTPUT=0. For more information, please see https://github.com/ray-project/ray/issues/36949\n",
            "/usr/local/lib/python3.10/dist-packages/ray/tune/tune.py:747: UserWarning: Consider boosting PBT performance by enabling `reuse_actors` as well as implementing `reset_config` for Trainable.\n",
            "  warnings.warn(\n",
            "2023-12-07 02:13:45,100\tWARNING callback.py:137 -- The TensorboardX logger cannot be instantiated because either TensorboardX or one of it's dependencies is not installed. Please make sure you have the latest version of TensorboardX installed: `pip install -U tensorboardx`\n"
          ]
        },
        {
          "output_type": "stream",
          "name": "stdout",
          "text": [
            "+------------------------------------------------------------+\n",
            "| Configuration for experiment     PPO_2023-12-07_02-13-45   |\n",
            "+------------------------------------------------------------+\n",
            "| Search algorithm                 BasicVariantGenerator     |\n",
            "| Scheduler                        PopulationBasedTraining   |\n",
            "| Number of trials                 2                         |\n",
            "+------------------------------------------------------------+\n",
            "\n",
            "View detailed results here: /root/ray_results/PPO_2023-12-07_02-13-45\n",
            "\n",
            "Trial status: 2 PENDING\n",
            "Current time: 2023-12-07 02:13:45. Total running time: 0s\n",
            "Logical resource usage: 0/2 CPUs, 0/0 GPUs\n",
            "+-----------------------------------------------------------------------------------------------------+\n",
            "| Trial name                    status       num_sgd_iter     sgd_minibatch_size     train_batch_size |\n",
            "+-----------------------------------------------------------------------------------------------------+\n",
            "| PPO_CartPole-v2_3fcda_00000   PENDING                20                    128                20000 |\n",
            "| PPO_CartPole-v2_3fcda_00001   PENDING                10                    512                40000 |\n",
            "+-----------------------------------------------------------------------------------------------------+\n",
            "Trial status: 2 PENDING\n",
            "Current time: 2023-12-07 02:14:15. Total running time: 30s\n",
            "Logical resource usage: 0/2 CPUs, 0/0 GPUs\n",
            "+-----------------------------------------------------------------------------------------------------+\n",
            "| Trial name                    status       num_sgd_iter     sgd_minibatch_size     train_batch_size |\n",
            "+-----------------------------------------------------------------------------------------------------+\n",
            "| PPO_CartPole-v2_3fcda_00000   PENDING                20                    128                20000 |\n",
            "| PPO_CartPole-v2_3fcda_00001   PENDING                10                    512                40000 |\n",
            "+-----------------------------------------------------------------------------------------------------+\n"
          ]
        },
        {
          "output_type": "stream",
          "name": "stderr",
          "text": [
            "2023-12-07 02:14:45,355\tWARNING insufficient_resources_manager.py:163 -- Ignore this message if the cluster is autoscaling. No trial is running and no new trial has been started within the last 60 seconds. This could be due to the cluster not having enough resources available. You asked for 5.0 CPUs and 0 GPUs per trial, but the cluster only has 2.0 CPUs and 0 GPUs available. Stop the tuning and adjust the required resources (e.g. via the `ScalingConfig` or `resources_per_trial`, or `num_workers` for rllib), or add more resources to your cluster.\n"
          ]
        },
        {
          "output_type": "stream",
          "name": "stdout",
          "text": [
            "Trial status: 2 PENDING\n",
            "Current time: 2023-12-07 02:14:45. Total running time: 1min 0s\n",
            "Logical resource usage: 0/2 CPUs, 0/0 GPUs\n",
            "+-----------------------------------------------------------------------------------------------------+\n",
            "| Trial name                    status       num_sgd_iter     sgd_minibatch_size     train_batch_size |\n",
            "+-----------------------------------------------------------------------------------------------------+\n",
            "| PPO_CartPole-v2_3fcda_00000   PENDING                20                    128                20000 |\n",
            "| PPO_CartPole-v2_3fcda_00001   PENDING                10                    512                40000 |\n",
            "+-----------------------------------------------------------------------------------------------------+\n",
            "Trial status: 2 PENDING\n",
            "Current time: 2023-12-07 02:15:15. Total running time: 1min 30s\n",
            "Logical resource usage: 0/2 CPUs, 0/0 GPUs\n",
            "+-----------------------------------------------------------------------------------------------------+\n",
            "| Trial name                    status       num_sgd_iter     sgd_minibatch_size     train_batch_size |\n",
            "+-----------------------------------------------------------------------------------------------------+\n",
            "| PPO_CartPole-v2_3fcda_00000   PENDING                20                    128                20000 |\n",
            "| PPO_CartPole-v2_3fcda_00001   PENDING                10                    512                40000 |\n",
            "+-----------------------------------------------------------------------------------------------------+\n"
          ]
        },
        {
          "output_type": "stream",
          "name": "stderr",
          "text": [
            "2023-12-07 02:15:45,393\tWARNING insufficient_resources_manager.py:163 -- Ignore this message if the cluster is autoscaling. No trial is running and no new trial has been started within the last 60 seconds. This could be due to the cluster not having enough resources available. You asked for 5.0 CPUs and 0 GPUs per trial, but the cluster only has 2.0 CPUs and 0 GPUs available. Stop the tuning and adjust the required resources (e.g. via the `ScalingConfig` or `resources_per_trial`, or `num_workers` for rllib), or add more resources to your cluster.\n"
          ]
        },
        {
          "output_type": "stream",
          "name": "stdout",
          "text": [
            "Trial status: 2 PENDING\n",
            "Current time: 2023-12-07 02:15:45. Total running time: 2min 0s\n",
            "Logical resource usage: 0/2 CPUs, 0/0 GPUs\n",
            "+-----------------------------------------------------------------------------------------------------+\n",
            "| Trial name                    status       num_sgd_iter     sgd_minibatch_size     train_batch_size |\n",
            "+-----------------------------------------------------------------------------------------------------+\n",
            "| PPO_CartPole-v2_3fcda_00000   PENDING                20                    128                20000 |\n",
            "| PPO_CartPole-v2_3fcda_00001   PENDING                10                    512                40000 |\n",
            "+-----------------------------------------------------------------------------------------------------+\n",
            "Trial status: 2 PENDING\n",
            "Current time: 2023-12-07 02:16:15. Total running time: 2min 30s\n",
            "Logical resource usage: 0/2 CPUs, 0/0 GPUs\n",
            "+-----------------------------------------------------------------------------------------------------+\n",
            "| Trial name                    status       num_sgd_iter     sgd_minibatch_size     train_batch_size |\n",
            "+-----------------------------------------------------------------------------------------------------+\n",
            "| PPO_CartPole-v2_3fcda_00000   PENDING                20                    128                20000 |\n",
            "| PPO_CartPole-v2_3fcda_00001   PENDING                10                    512                40000 |\n",
            "+-----------------------------------------------------------------------------------------------------+\n"
          ]
        },
        {
          "output_type": "stream",
          "name": "stderr",
          "text": [
            "2023-12-07 02:16:45,434\tWARNING insufficient_resources_manager.py:163 -- Ignore this message if the cluster is autoscaling. No trial is running and no new trial has been started within the last 60 seconds. This could be due to the cluster not having enough resources available. You asked for 5.0 CPUs and 0 GPUs per trial, but the cluster only has 2.0 CPUs and 0 GPUs available. Stop the tuning and adjust the required resources (e.g. via the `ScalingConfig` or `resources_per_trial`, or `num_workers` for rllib), or add more resources to your cluster.\n"
          ]
        },
        {
          "output_type": "stream",
          "name": "stdout",
          "text": [
            "Trial status: 2 PENDING\n",
            "Current time: 2023-12-07 02:16:45. Total running time: 3min 0s\n",
            "Logical resource usage: 0/2 CPUs, 0/0 GPUs\n",
            "+-----------------------------------------------------------------------------------------------------+\n",
            "| Trial name                    status       num_sgd_iter     sgd_minibatch_size     train_batch_size |\n",
            "+-----------------------------------------------------------------------------------------------------+\n",
            "| PPO_CartPole-v2_3fcda_00000   PENDING                20                    128                20000 |\n",
            "| PPO_CartPole-v2_3fcda_00001   PENDING                10                    512                40000 |\n",
            "+-----------------------------------------------------------------------------------------------------+\n",
            "Trial status: 2 PENDING\n",
            "Current time: 2023-12-07 02:17:15. Total running time: 3min 30s\n",
            "Logical resource usage: 0/2 CPUs, 0/0 GPUs\n",
            "+-----------------------------------------------------------------------------------------------------+\n",
            "| Trial name                    status       num_sgd_iter     sgd_minibatch_size     train_batch_size |\n",
            "+-----------------------------------------------------------------------------------------------------+\n",
            "| PPO_CartPole-v2_3fcda_00000   PENDING                20                    128                20000 |\n",
            "| PPO_CartPole-v2_3fcda_00001   PENDING                10                    512                40000 |\n",
            "+-----------------------------------------------------------------------------------------------------+\n"
          ]
        },
        {
          "output_type": "stream",
          "name": "stderr",
          "text": [
            "2023-12-07 02:17:45,478\tWARNING insufficient_resources_manager.py:163 -- Ignore this message if the cluster is autoscaling. No trial is running and no new trial has been started within the last 60 seconds. This could be due to the cluster not having enough resources available. You asked for 5.0 CPUs and 0 GPUs per trial, but the cluster only has 2.0 CPUs and 0 GPUs available. Stop the tuning and adjust the required resources (e.g. via the `ScalingConfig` or `resources_per_trial`, or `num_workers` for rllib), or add more resources to your cluster.\n"
          ]
        },
        {
          "output_type": "stream",
          "name": "stdout",
          "text": [
            "Trial status: 2 PENDING\n",
            "Current time: 2023-12-07 02:17:45. Total running time: 4min 0s\n",
            "Logical resource usage: 0/2 CPUs, 0/0 GPUs\n",
            "+-----------------------------------------------------------------------------------------------------+\n",
            "| Trial name                    status       num_sgd_iter     sgd_minibatch_size     train_batch_size |\n",
            "+-----------------------------------------------------------------------------------------------------+\n",
            "| PPO_CartPole-v2_3fcda_00000   PENDING                20                    128                20000 |\n",
            "| PPO_CartPole-v2_3fcda_00001   PENDING                10                    512                40000 |\n",
            "+-----------------------------------------------------------------------------------------------------+\n",
            "Trial status: 2 PENDING\n",
            "Current time: 2023-12-07 02:18:15. Total running time: 4min 30s\n",
            "Logical resource usage: 0/2 CPUs, 0/0 GPUs\n",
            "+-----------------------------------------------------------------------------------------------------+\n",
            "| Trial name                    status       num_sgd_iter     sgd_minibatch_size     train_batch_size |\n",
            "+-----------------------------------------------------------------------------------------------------+\n",
            "| PPO_CartPole-v2_3fcda_00000   PENDING                20                    128                20000 |\n",
            "| PPO_CartPole-v2_3fcda_00001   PENDING                10                    512                40000 |\n",
            "+-----------------------------------------------------------------------------------------------------+\n"
          ]
        },
        {
          "output_type": "stream",
          "name": "stderr",
          "text": [
            "2023-12-07 02:18:45,515\tWARNING insufficient_resources_manager.py:163 -- Ignore this message if the cluster is autoscaling. No trial is running and no new trial has been started within the last 60 seconds. This could be due to the cluster not having enough resources available. You asked for 5.0 CPUs and 0 GPUs per trial, but the cluster only has 2.0 CPUs and 0 GPUs available. Stop the tuning and adjust the required resources (e.g. via the `ScalingConfig` or `resources_per_trial`, or `num_workers` for rllib), or add more resources to your cluster.\n"
          ]
        },
        {
          "output_type": "stream",
          "name": "stdout",
          "text": [
            "Trial status: 2 PENDING\n",
            "Current time: 2023-12-07 02:18:45. Total running time: 5min 0s\n",
            "Logical resource usage: 0/2 CPUs, 0/0 GPUs\n",
            "+-----------------------------------------------------------------------------------------------------+\n",
            "| Trial name                    status       num_sgd_iter     sgd_minibatch_size     train_batch_size |\n",
            "+-----------------------------------------------------------------------------------------------------+\n",
            "| PPO_CartPole-v2_3fcda_00000   PENDING                20                    128                20000 |\n",
            "| PPO_CartPole-v2_3fcda_00001   PENDING                10                    512                40000 |\n",
            "+-----------------------------------------------------------------------------------------------------+\n",
            "Trial status: 2 PENDING\n",
            "Current time: 2023-12-07 02:19:15. Total running time: 5min 30s\n",
            "Logical resource usage: 0/2 CPUs, 0/0 GPUs\n",
            "+-----------------------------------------------------------------------------------------------------+\n",
            "| Trial name                    status       num_sgd_iter     sgd_minibatch_size     train_batch_size |\n",
            "+-----------------------------------------------------------------------------------------------------+\n",
            "| PPO_CartPole-v2_3fcda_00000   PENDING                20                    128                20000 |\n",
            "| PPO_CartPole-v2_3fcda_00001   PENDING                10                    512                40000 |\n",
            "+-----------------------------------------------------------------------------------------------------+\n"
          ]
        },
        {
          "output_type": "stream",
          "name": "stderr",
          "text": [
            "2023-12-07 02:19:45,546\tWARNING insufficient_resources_manager.py:163 -- Ignore this message if the cluster is autoscaling. No trial is running and no new trial has been started within the last 60 seconds. This could be due to the cluster not having enough resources available. You asked for 5.0 CPUs and 0 GPUs per trial, but the cluster only has 2.0 CPUs and 0 GPUs available. Stop the tuning and adjust the required resources (e.g. via the `ScalingConfig` or `resources_per_trial`, or `num_workers` for rllib), or add more resources to your cluster.\n"
          ]
        },
        {
          "output_type": "stream",
          "name": "stdout",
          "text": [
            "Trial status: 2 PENDING\n",
            "Current time: 2023-12-07 02:19:45. Total running time: 6min 0s\n",
            "Logical resource usage: 0/2 CPUs, 0/0 GPUs\n",
            "+-----------------------------------------------------------------------------------------------------+\n",
            "| Trial name                    status       num_sgd_iter     sgd_minibatch_size     train_batch_size |\n",
            "+-----------------------------------------------------------------------------------------------------+\n",
            "| PPO_CartPole-v2_3fcda_00000   PENDING                20                    128                20000 |\n",
            "| PPO_CartPole-v2_3fcda_00001   PENDING                10                    512                40000 |\n",
            "+-----------------------------------------------------------------------------------------------------+\n",
            "Trial status: 2 PENDING\n",
            "Current time: 2023-12-07 02:20:15. Total running time: 6min 30s\n",
            "Logical resource usage: 0/2 CPUs, 0/0 GPUs\n",
            "+-----------------------------------------------------------------------------------------------------+\n",
            "| Trial name                    status       num_sgd_iter     sgd_minibatch_size     train_batch_size |\n",
            "+-----------------------------------------------------------------------------------------------------+\n",
            "| PPO_CartPole-v2_3fcda_00000   PENDING                20                    128                20000 |\n",
            "| PPO_CartPole-v2_3fcda_00001   PENDING                10                    512                40000 |\n",
            "+-----------------------------------------------------------------------------------------------------+\n"
          ]
        },
        {
          "output_type": "stream",
          "name": "stderr",
          "text": [
            "2023-12-07 02:20:45,573\tWARNING insufficient_resources_manager.py:163 -- Ignore this message if the cluster is autoscaling. No trial is running and no new trial has been started within the last 60 seconds. This could be due to the cluster not having enough resources available. You asked for 5.0 CPUs and 0 GPUs per trial, but the cluster only has 2.0 CPUs and 0 GPUs available. Stop the tuning and adjust the required resources (e.g. via the `ScalingConfig` or `resources_per_trial`, or `num_workers` for rllib), or add more resources to your cluster.\n"
          ]
        },
        {
          "output_type": "stream",
          "name": "stdout",
          "text": [
            "Trial status: 2 PENDING\n",
            "Current time: 2023-12-07 02:20:45. Total running time: 7min 0s\n",
            "Logical resource usage: 0/2 CPUs, 0/0 GPUs\n",
            "+-----------------------------------------------------------------------------------------------------+\n",
            "| Trial name                    status       num_sgd_iter     sgd_minibatch_size     train_batch_size |\n",
            "+-----------------------------------------------------------------------------------------------------+\n",
            "| PPO_CartPole-v2_3fcda_00000   PENDING                20                    128                20000 |\n",
            "| PPO_CartPole-v2_3fcda_00001   PENDING                10                    512                40000 |\n",
            "+-----------------------------------------------------------------------------------------------------+\n",
            "Trial status: 2 PENDING\n",
            "Current time: 2023-12-07 02:21:15. Total running time: 7min 30s\n",
            "Logical resource usage: 0/2 CPUs, 0/0 GPUs\n",
            "+-----------------------------------------------------------------------------------------------------+\n",
            "| Trial name                    status       num_sgd_iter     sgd_minibatch_size     train_batch_size |\n",
            "+-----------------------------------------------------------------------------------------------------+\n",
            "| PPO_CartPole-v2_3fcda_00000   PENDING                20                    128                20000 |\n",
            "| PPO_CartPole-v2_3fcda_00001   PENDING                10                    512                40000 |\n",
            "+-----------------------------------------------------------------------------------------------------+\n"
          ]
        },
        {
          "output_type": "stream",
          "name": "stderr",
          "text": [
            "2023-12-07 02:21:45,605\tWARNING insufficient_resources_manager.py:163 -- Ignore this message if the cluster is autoscaling. No trial is running and no new trial has been started within the last 60 seconds. This could be due to the cluster not having enough resources available. You asked for 5.0 CPUs and 0 GPUs per trial, but the cluster only has 2.0 CPUs and 0 GPUs available. Stop the tuning and adjust the required resources (e.g. via the `ScalingConfig` or `resources_per_trial`, or `num_workers` for rllib), or add more resources to your cluster.\n"
          ]
        },
        {
          "output_type": "stream",
          "name": "stdout",
          "text": [
            "Trial status: 2 PENDING\n",
            "Current time: 2023-12-07 02:21:45. Total running time: 8min 0s\n",
            "Logical resource usage: 0/2 CPUs, 0/0 GPUs\n",
            "+-----------------------------------------------------------------------------------------------------+\n",
            "| Trial name                    status       num_sgd_iter     sgd_minibatch_size     train_batch_size |\n",
            "+-----------------------------------------------------------------------------------------------------+\n",
            "| PPO_CartPole-v2_3fcda_00000   PENDING                20                    128                20000 |\n",
            "| PPO_CartPole-v2_3fcda_00001   PENDING                10                    512                40000 |\n",
            "+-----------------------------------------------------------------------------------------------------+\n",
            "Trial status: 2 PENDING\n",
            "Current time: 2023-12-07 02:22:15. Total running time: 8min 30s\n",
            "Logical resource usage: 0/2 CPUs, 0/0 GPUs\n",
            "+-----------------------------------------------------------------------------------------------------+\n",
            "| Trial name                    status       num_sgd_iter     sgd_minibatch_size     train_batch_size |\n",
            "+-----------------------------------------------------------------------------------------------------+\n",
            "| PPO_CartPole-v2_3fcda_00000   PENDING                20                    128                20000 |\n",
            "| PPO_CartPole-v2_3fcda_00001   PENDING                10                    512                40000 |\n",
            "+-----------------------------------------------------------------------------------------------------+\n"
          ]
        },
        {
          "output_type": "stream",
          "name": "stderr",
          "text": [
            "2023-12-07 02:22:45,700\tWARNING insufficient_resources_manager.py:163 -- Ignore this message if the cluster is autoscaling. No trial is running and no new trial has been started within the last 60 seconds. This could be due to the cluster not having enough resources available. You asked for 5.0 CPUs and 0 GPUs per trial, but the cluster only has 2.0 CPUs and 0 GPUs available. Stop the tuning and adjust the required resources (e.g. via the `ScalingConfig` or `resources_per_trial`, or `num_workers` for rllib), or add more resources to your cluster.\n"
          ]
        },
        {
          "output_type": "stream",
          "name": "stdout",
          "text": [
            "Trial status: 2 PENDING\n",
            "Current time: 2023-12-07 02:22:45. Total running time: 9min 0s\n",
            "Logical resource usage: 0/2 CPUs, 0/0 GPUs\n",
            "+-----------------------------------------------------------------------------------------------------+\n",
            "| Trial name                    status       num_sgd_iter     sgd_minibatch_size     train_batch_size |\n",
            "+-----------------------------------------------------------------------------------------------------+\n",
            "| PPO_CartPole-v2_3fcda_00000   PENDING                20                    128                20000 |\n",
            "| PPO_CartPole-v2_3fcda_00001   PENDING                10                    512                40000 |\n",
            "+-----------------------------------------------------------------------------------------------------+\n",
            "Trial status: 2 PENDING\n",
            "Current time: 2023-12-07 02:23:15. Total running time: 9min 30s\n",
            "Logical resource usage: 0/2 CPUs, 0/0 GPUs\n",
            "+-----------------------------------------------------------------------------------------------------+\n",
            "| Trial name                    status       num_sgd_iter     sgd_minibatch_size     train_batch_size |\n",
            "+-----------------------------------------------------------------------------------------------------+\n",
            "| PPO_CartPole-v2_3fcda_00000   PENDING                20                    128                20000 |\n",
            "| PPO_CartPole-v2_3fcda_00001   PENDING                10                    512                40000 |\n",
            "+-----------------------------------------------------------------------------------------------------+\n"
          ]
        },
        {
          "output_type": "stream",
          "name": "stderr",
          "text": [
            "2023-12-07 02:23:45,740\tWARNING insufficient_resources_manager.py:163 -- Ignore this message if the cluster is autoscaling. No trial is running and no new trial has been started within the last 60 seconds. This could be due to the cluster not having enough resources available. You asked for 5.0 CPUs and 0 GPUs per trial, but the cluster only has 2.0 CPUs and 0 GPUs available. Stop the tuning and adjust the required resources (e.g. via the `ScalingConfig` or `resources_per_trial`, or `num_workers` for rllib), or add more resources to your cluster.\n"
          ]
        },
        {
          "output_type": "stream",
          "name": "stdout",
          "text": [
            "Trial status: 2 PENDING\n",
            "Current time: 2023-12-07 02:23:45. Total running time: 10min 0s\n",
            "Logical resource usage: 0/2 CPUs, 0/0 GPUs\n",
            "+-----------------------------------------------------------------------------------------------------+\n",
            "| Trial name                    status       num_sgd_iter     sgd_minibatch_size     train_batch_size |\n",
            "+-----------------------------------------------------------------------------------------------------+\n",
            "| PPO_CartPole-v2_3fcda_00000   PENDING                20                    128                20000 |\n",
            "| PPO_CartPole-v2_3fcda_00001   PENDING                10                    512                40000 |\n",
            "+-----------------------------------------------------------------------------------------------------+\n",
            "Trial status: 2 PENDING\n",
            "Current time: 2023-12-07 02:24:15. Total running time: 10min 30s\n",
            "Logical resource usage: 0/2 CPUs, 0/0 GPUs\n",
            "+-----------------------------------------------------------------------------------------------------+\n",
            "| Trial name                    status       num_sgd_iter     sgd_minibatch_size     train_batch_size |\n",
            "+-----------------------------------------------------------------------------------------------------+\n",
            "| PPO_CartPole-v2_3fcda_00000   PENDING                20                    128                20000 |\n",
            "| PPO_CartPole-v2_3fcda_00001   PENDING                10                    512                40000 |\n",
            "+-----------------------------------------------------------------------------------------------------+\n"
          ]
        },
        {
          "output_type": "stream",
          "name": "stderr",
          "text": [
            "2023-12-07 02:24:45,777\tWARNING insufficient_resources_manager.py:163 -- Ignore this message if the cluster is autoscaling. No trial is running and no new trial has been started within the last 60 seconds. This could be due to the cluster not having enough resources available. You asked for 5.0 CPUs and 0 GPUs per trial, but the cluster only has 2.0 CPUs and 0 GPUs available. Stop the tuning and adjust the required resources (e.g. via the `ScalingConfig` or `resources_per_trial`, or `num_workers` for rllib), or add more resources to your cluster.\n"
          ]
        },
        {
          "output_type": "stream",
          "name": "stdout",
          "text": [
            "Trial status: 2 PENDING\n",
            "Current time: 2023-12-07 02:24:45. Total running time: 11min 0s\n",
            "Logical resource usage: 0/2 CPUs, 0/0 GPUs\n",
            "+-----------------------------------------------------------------------------------------------------+\n",
            "| Trial name                    status       num_sgd_iter     sgd_minibatch_size     train_batch_size |\n",
            "+-----------------------------------------------------------------------------------------------------+\n",
            "| PPO_CartPole-v2_3fcda_00000   PENDING                20                    128                20000 |\n",
            "| PPO_CartPole-v2_3fcda_00001   PENDING                10                    512                40000 |\n",
            "+-----------------------------------------------------------------------------------------------------+\n",
            "Trial status: 2 PENDING\n",
            "Current time: 2023-12-07 02:25:15. Total running time: 11min 30s\n",
            "Logical resource usage: 0/2 CPUs, 0/0 GPUs\n",
            "+-----------------------------------------------------------------------------------------------------+\n",
            "| Trial name                    status       num_sgd_iter     sgd_minibatch_size     train_batch_size |\n",
            "+-----------------------------------------------------------------------------------------------------+\n",
            "| PPO_CartPole-v2_3fcda_00000   PENDING                20                    128                20000 |\n",
            "| PPO_CartPole-v2_3fcda_00001   PENDING                10                    512                40000 |\n",
            "+-----------------------------------------------------------------------------------------------------+\n"
          ]
        },
        {
          "output_type": "stream",
          "name": "stderr",
          "text": [
            "2023-12-07 02:25:45,822\tWARNING insufficient_resources_manager.py:163 -- Ignore this message if the cluster is autoscaling. No trial is running and no new trial has been started within the last 60 seconds. This could be due to the cluster not having enough resources available. You asked for 5.0 CPUs and 0 GPUs per trial, but the cluster only has 2.0 CPUs and 0 GPUs available. Stop the tuning and adjust the required resources (e.g. via the `ScalingConfig` or `resources_per_trial`, or `num_workers` for rllib), or add more resources to your cluster.\n"
          ]
        },
        {
          "output_type": "stream",
          "name": "stdout",
          "text": [
            "Trial status: 2 PENDING\n",
            "Current time: 2023-12-07 02:25:45. Total running time: 12min 0s\n",
            "Logical resource usage: 0/2 CPUs, 0/0 GPUs\n",
            "+-----------------------------------------------------------------------------------------------------+\n",
            "| Trial name                    status       num_sgd_iter     sgd_minibatch_size     train_batch_size |\n",
            "+-----------------------------------------------------------------------------------------------------+\n",
            "| PPO_CartPole-v2_3fcda_00000   PENDING                20                    128                20000 |\n",
            "| PPO_CartPole-v2_3fcda_00001   PENDING                10                    512                40000 |\n",
            "+-----------------------------------------------------------------------------------------------------+\n",
            "Trial status: 2 PENDING\n",
            "Current time: 2023-12-07 02:26:15. Total running time: 12min 30s\n",
            "Logical resource usage: 0/2 CPUs, 0/0 GPUs\n",
            "+-----------------------------------------------------------------------------------------------------+\n",
            "| Trial name                    status       num_sgd_iter     sgd_minibatch_size     train_batch_size |\n",
            "+-----------------------------------------------------------------------------------------------------+\n",
            "| PPO_CartPole-v2_3fcda_00000   PENDING                20                    128                20000 |\n",
            "| PPO_CartPole-v2_3fcda_00001   PENDING                10                    512                40000 |\n",
            "+-----------------------------------------------------------------------------------------------------+\n"
          ]
        },
        {
          "output_type": "stream",
          "name": "stderr",
          "text": [
            "2023-12-07 02:26:45,855\tWARNING insufficient_resources_manager.py:163 -- Ignore this message if the cluster is autoscaling. No trial is running and no new trial has been started within the last 60 seconds. This could be due to the cluster not having enough resources available. You asked for 5.0 CPUs and 0 GPUs per trial, but the cluster only has 2.0 CPUs and 0 GPUs available. Stop the tuning and adjust the required resources (e.g. via the `ScalingConfig` or `resources_per_trial`, or `num_workers` for rllib), or add more resources to your cluster.\n"
          ]
        },
        {
          "output_type": "stream",
          "name": "stdout",
          "text": [
            "Trial status: 2 PENDING\n",
            "Current time: 2023-12-07 02:26:45. Total running time: 13min 0s\n",
            "Logical resource usage: 0/2 CPUs, 0/0 GPUs\n",
            "+-----------------------------------------------------------------------------------------------------+\n",
            "| Trial name                    status       num_sgd_iter     sgd_minibatch_size     train_batch_size |\n",
            "+-----------------------------------------------------------------------------------------------------+\n",
            "| PPO_CartPole-v2_3fcda_00000   PENDING                20                    128                20000 |\n",
            "| PPO_CartPole-v2_3fcda_00001   PENDING                10                    512                40000 |\n",
            "+-----------------------------------------------------------------------------------------------------+\n",
            "Trial status: 2 PENDING\n",
            "Current time: 2023-12-07 02:27:15. Total running time: 13min 30s\n",
            "Logical resource usage: 0/2 CPUs, 0/0 GPUs\n",
            "+-----------------------------------------------------------------------------------------------------+\n",
            "| Trial name                    status       num_sgd_iter     sgd_minibatch_size     train_batch_size |\n",
            "+-----------------------------------------------------------------------------------------------------+\n",
            "| PPO_CartPole-v2_3fcda_00000   PENDING                20                    128                20000 |\n",
            "| PPO_CartPole-v2_3fcda_00001   PENDING                10                    512                40000 |\n",
            "+-----------------------------------------------------------------------------------------------------+\n"
          ]
        },
        {
          "output_type": "stream",
          "name": "stderr",
          "text": [
            "2023-12-07 02:27:45,891\tWARNING insufficient_resources_manager.py:163 -- Ignore this message if the cluster is autoscaling. No trial is running and no new trial has been started within the last 60 seconds. This could be due to the cluster not having enough resources available. You asked for 5.0 CPUs and 0 GPUs per trial, but the cluster only has 2.0 CPUs and 0 GPUs available. Stop the tuning and adjust the required resources (e.g. via the `ScalingConfig` or `resources_per_trial`, or `num_workers` for rllib), or add more resources to your cluster.\n"
          ]
        },
        {
          "output_type": "stream",
          "name": "stdout",
          "text": [
            "Trial status: 2 PENDING\n",
            "Current time: 2023-12-07 02:27:45. Total running time: 14min 0s\n",
            "Logical resource usage: 0/2 CPUs, 0/0 GPUs\n",
            "+-----------------------------------------------------------------------------------------------------+\n",
            "| Trial name                    status       num_sgd_iter     sgd_minibatch_size     train_batch_size |\n",
            "+-----------------------------------------------------------------------------------------------------+\n",
            "| PPO_CartPole-v2_3fcda_00000   PENDING                20                    128                20000 |\n",
            "| PPO_CartPole-v2_3fcda_00001   PENDING                10                    512                40000 |\n",
            "+-----------------------------------------------------------------------------------------------------+\n",
            "Trial status: 2 PENDING\n",
            "Current time: 2023-12-07 02:28:15. Total running time: 14min 30s\n",
            "Logical resource usage: 0/2 CPUs, 0/0 GPUs\n",
            "+-----------------------------------------------------------------------------------------------------+\n",
            "| Trial name                    status       num_sgd_iter     sgd_minibatch_size     train_batch_size |\n",
            "+-----------------------------------------------------------------------------------------------------+\n",
            "| PPO_CartPole-v2_3fcda_00000   PENDING                20                    128                20000 |\n",
            "| PPO_CartPole-v2_3fcda_00001   PENDING                10                    512                40000 |\n",
            "+-----------------------------------------------------------------------------------------------------+\n"
          ]
        },
        {
          "output_type": "stream",
          "name": "stderr",
          "text": [
            "2023-12-07 02:28:45,924\tWARNING insufficient_resources_manager.py:163 -- Ignore this message if the cluster is autoscaling. No trial is running and no new trial has been started within the last 60 seconds. This could be due to the cluster not having enough resources available. You asked for 5.0 CPUs and 0 GPUs per trial, but the cluster only has 2.0 CPUs and 0 GPUs available. Stop the tuning and adjust the required resources (e.g. via the `ScalingConfig` or `resources_per_trial`, or `num_workers` for rllib), or add more resources to your cluster.\n"
          ]
        },
        {
          "output_type": "stream",
          "name": "stdout",
          "text": [
            "Trial status: 2 PENDING\n",
            "Current time: 2023-12-07 02:28:45. Total running time: 15min 0s\n",
            "Logical resource usage: 0/2 CPUs, 0/0 GPUs\n",
            "+-----------------------------------------------------------------------------------------------------+\n",
            "| Trial name                    status       num_sgd_iter     sgd_minibatch_size     train_batch_size |\n",
            "+-----------------------------------------------------------------------------------------------------+\n",
            "| PPO_CartPole-v2_3fcda_00000   PENDING                20                    128                20000 |\n",
            "| PPO_CartPole-v2_3fcda_00001   PENDING                10                    512                40000 |\n",
            "+-----------------------------------------------------------------------------------------------------+\n",
            "Trial status: 2 PENDING\n",
            "Current time: 2023-12-07 02:29:15. Total running time: 15min 30s\n",
            "Logical resource usage: 0/2 CPUs, 0/0 GPUs\n",
            "+-----------------------------------------------------------------------------------------------------+\n",
            "| Trial name                    status       num_sgd_iter     sgd_minibatch_size     train_batch_size |\n",
            "+-----------------------------------------------------------------------------------------------------+\n",
            "| PPO_CartPole-v2_3fcda_00000   PENDING                20                    128                20000 |\n",
            "| PPO_CartPole-v2_3fcda_00001   PENDING                10                    512                40000 |\n",
            "+-----------------------------------------------------------------------------------------------------+\n"
          ]
        },
        {
          "output_type": "stream",
          "name": "stderr",
          "text": [
            "2023-12-07 02:29:45,968\tWARNING insufficient_resources_manager.py:163 -- Ignore this message if the cluster is autoscaling. No trial is running and no new trial has been started within the last 60 seconds. This could be due to the cluster not having enough resources available. You asked for 5.0 CPUs and 0 GPUs per trial, but the cluster only has 2.0 CPUs and 0 GPUs available. Stop the tuning and adjust the required resources (e.g. via the `ScalingConfig` or `resources_per_trial`, or `num_workers` for rllib), or add more resources to your cluster.\n"
          ]
        },
        {
          "output_type": "stream",
          "name": "stdout",
          "text": [
            "Trial status: 2 PENDING\n",
            "Current time: 2023-12-07 02:29:45. Total running time: 16min 0s\n",
            "Logical resource usage: 0/2 CPUs, 0/0 GPUs\n",
            "+-----------------------------------------------------------------------------------------------------+\n",
            "| Trial name                    status       num_sgd_iter     sgd_minibatch_size     train_batch_size |\n",
            "+-----------------------------------------------------------------------------------------------------+\n",
            "| PPO_CartPole-v2_3fcda_00000   PENDING                20                    128                20000 |\n",
            "| PPO_CartPole-v2_3fcda_00001   PENDING                10                    512                40000 |\n",
            "+-----------------------------------------------------------------------------------------------------+\n",
            "Trial status: 2 PENDING\n",
            "Current time: 2023-12-07 02:30:15. Total running time: 16min 30s\n",
            "Logical resource usage: 0/2 CPUs, 0/0 GPUs\n",
            "+-----------------------------------------------------------------------------------------------------+\n",
            "| Trial name                    status       num_sgd_iter     sgd_minibatch_size     train_batch_size |\n",
            "+-----------------------------------------------------------------------------------------------------+\n",
            "| PPO_CartPole-v2_3fcda_00000   PENDING                20                    128                20000 |\n",
            "| PPO_CartPole-v2_3fcda_00001   PENDING                10                    512                40000 |\n",
            "+-----------------------------------------------------------------------------------------------------+\n"
          ]
        },
        {
          "output_type": "stream",
          "name": "stderr",
          "text": [
            "2023-12-07 02:30:46,021\tWARNING insufficient_resources_manager.py:163 -- Ignore this message if the cluster is autoscaling. No trial is running and no new trial has been started within the last 60 seconds. This could be due to the cluster not having enough resources available. You asked for 5.0 CPUs and 0 GPUs per trial, but the cluster only has 2.0 CPUs and 0 GPUs available. Stop the tuning and adjust the required resources (e.g. via the `ScalingConfig` or `resources_per_trial`, or `num_workers` for rllib), or add more resources to your cluster.\n"
          ]
        },
        {
          "output_type": "stream",
          "name": "stdout",
          "text": [
            "Trial status: 2 PENDING\n",
            "Current time: 2023-12-07 02:30:45. Total running time: 17min 0s\n",
            "Logical resource usage: 0/2 CPUs, 0/0 GPUs\n",
            "+-----------------------------------------------------------------------------------------------------+\n",
            "| Trial name                    status       num_sgd_iter     sgd_minibatch_size     train_batch_size |\n",
            "+-----------------------------------------------------------------------------------------------------+\n",
            "| PPO_CartPole-v2_3fcda_00000   PENDING                20                    128                20000 |\n",
            "| PPO_CartPole-v2_3fcda_00001   PENDING                10                    512                40000 |\n",
            "+-----------------------------------------------------------------------------------------------------+\n",
            "Trial status: 2 PENDING\n",
            "Current time: 2023-12-07 02:31:15. Total running time: 17min 30s\n",
            "Logical resource usage: 0/2 CPUs, 0/0 GPUs\n",
            "+-----------------------------------------------------------------------------------------------------+\n",
            "| Trial name                    status       num_sgd_iter     sgd_minibatch_size     train_batch_size |\n",
            "+-----------------------------------------------------------------------------------------------------+\n",
            "| PPO_CartPole-v2_3fcda_00000   PENDING                20                    128                20000 |\n",
            "| PPO_CartPole-v2_3fcda_00001   PENDING                10                    512                40000 |\n",
            "+-----------------------------------------------------------------------------------------------------+\n"
          ]
        },
        {
          "output_type": "stream",
          "name": "stderr",
          "text": [
            "2023-12-07 02:31:46,071\tWARNING insufficient_resources_manager.py:163 -- Ignore this message if the cluster is autoscaling. No trial is running and no new trial has been started within the last 60 seconds. This could be due to the cluster not having enough resources available. You asked for 5.0 CPUs and 0 GPUs per trial, but the cluster only has 2.0 CPUs and 0 GPUs available. Stop the tuning and adjust the required resources (e.g. via the `ScalingConfig` or `resources_per_trial`, or `num_workers` for rllib), or add more resources to your cluster.\n"
          ]
        },
        {
          "output_type": "stream",
          "name": "stdout",
          "text": [
            "Trial status: 2 PENDING\n",
            "Current time: 2023-12-07 02:31:45. Total running time: 18min 0s\n",
            "Logical resource usage: 0/2 CPUs, 0/0 GPUs\n",
            "+-----------------------------------------------------------------------------------------------------+\n",
            "| Trial name                    status       num_sgd_iter     sgd_minibatch_size     train_batch_size |\n",
            "+-----------------------------------------------------------------------------------------------------+\n",
            "| PPO_CartPole-v2_3fcda_00000   PENDING                20                    128                20000 |\n",
            "| PPO_CartPole-v2_3fcda_00001   PENDING                10                    512                40000 |\n",
            "+-----------------------------------------------------------------------------------------------------+\n",
            "Trial status: 2 PENDING\n",
            "Current time: 2023-12-07 02:32:15. Total running time: 18min 30s\n",
            "Logical resource usage: 0/2 CPUs, 0/0 GPUs\n",
            "+-----------------------------------------------------------------------------------------------------+\n",
            "| Trial name                    status       num_sgd_iter     sgd_minibatch_size     train_batch_size |\n",
            "+-----------------------------------------------------------------------------------------------------+\n",
            "| PPO_CartPole-v2_3fcda_00000   PENDING                20                    128                20000 |\n",
            "| PPO_CartPole-v2_3fcda_00001   PENDING                10                    512                40000 |\n",
            "+-----------------------------------------------------------------------------------------------------+\n"
          ]
        },
        {
          "output_type": "stream",
          "name": "stderr",
          "text": [
            "2023-12-07 02:32:46,103\tWARNING insufficient_resources_manager.py:163 -- Ignore this message if the cluster is autoscaling. No trial is running and no new trial has been started within the last 60 seconds. This could be due to the cluster not having enough resources available. You asked for 5.0 CPUs and 0 GPUs per trial, but the cluster only has 2.0 CPUs and 0 GPUs available. Stop the tuning and adjust the required resources (e.g. via the `ScalingConfig` or `resources_per_trial`, or `num_workers` for rllib), or add more resources to your cluster.\n"
          ]
        },
        {
          "output_type": "stream",
          "name": "stdout",
          "text": [
            "Trial status: 2 PENDING\n",
            "Current time: 2023-12-07 02:32:45. Total running time: 19min 0s\n",
            "Logical resource usage: 0/2 CPUs, 0/0 GPUs\n",
            "+-----------------------------------------------------------------------------------------------------+\n",
            "| Trial name                    status       num_sgd_iter     sgd_minibatch_size     train_batch_size |\n",
            "+-----------------------------------------------------------------------------------------------------+\n",
            "| PPO_CartPole-v2_3fcda_00000   PENDING                20                    128                20000 |\n",
            "| PPO_CartPole-v2_3fcda_00001   PENDING                10                    512                40000 |\n",
            "+-----------------------------------------------------------------------------------------------------+\n",
            "Trial status: 2 PENDING\n",
            "Current time: 2023-12-07 02:33:16. Total running time: 19min 30s\n",
            "Logical resource usage: 0/2 CPUs, 0/0 GPUs\n",
            "+-----------------------------------------------------------------------------------------------------+\n",
            "| Trial name                    status       num_sgd_iter     sgd_minibatch_size     train_batch_size |\n",
            "+-----------------------------------------------------------------------------------------------------+\n",
            "| PPO_CartPole-v2_3fcda_00000   PENDING                20                    128                20000 |\n",
            "| PPO_CartPole-v2_3fcda_00001   PENDING                10                    512                40000 |\n",
            "+-----------------------------------------------------------------------------------------------------+\n"
          ]
        },
        {
          "output_type": "stream",
          "name": "stderr",
          "text": [
            "2023-12-07 02:33:46,137\tWARNING insufficient_resources_manager.py:163 -- Ignore this message if the cluster is autoscaling. No trial is running and no new trial has been started within the last 60 seconds. This could be due to the cluster not having enough resources available. You asked for 5.0 CPUs and 0 GPUs per trial, but the cluster only has 2.0 CPUs and 0 GPUs available. Stop the tuning and adjust the required resources (e.g. via the `ScalingConfig` or `resources_per_trial`, or `num_workers` for rllib), or add more resources to your cluster.\n"
          ]
        },
        {
          "output_type": "stream",
          "name": "stdout",
          "text": [
            "Trial status: 2 PENDING\n",
            "Current time: 2023-12-07 02:33:46. Total running time: 20min 0s\n",
            "Logical resource usage: 0/2 CPUs, 0/0 GPUs\n",
            "+-----------------------------------------------------------------------------------------------------+\n",
            "| Trial name                    status       num_sgd_iter     sgd_minibatch_size     train_batch_size |\n",
            "+-----------------------------------------------------------------------------------------------------+\n",
            "| PPO_CartPole-v2_3fcda_00000   PENDING                20                    128                20000 |\n",
            "| PPO_CartPole-v2_3fcda_00001   PENDING                10                    512                40000 |\n",
            "+-----------------------------------------------------------------------------------------------------+\n",
            "Trial status: 2 PENDING\n",
            "Current time: 2023-12-07 02:34:16. Total running time: 20min 30s\n",
            "Logical resource usage: 0/2 CPUs, 0/0 GPUs\n",
            "+-----------------------------------------------------------------------------------------------------+\n",
            "| Trial name                    status       num_sgd_iter     sgd_minibatch_size     train_batch_size |\n",
            "+-----------------------------------------------------------------------------------------------------+\n",
            "| PPO_CartPole-v2_3fcda_00000   PENDING                20                    128                20000 |\n",
            "| PPO_CartPole-v2_3fcda_00001   PENDING                10                    512                40000 |\n",
            "+-----------------------------------------------------------------------------------------------------+\n"
          ]
        },
        {
          "output_type": "stream",
          "name": "stderr",
          "text": [
            "2023-12-07 02:34:46,169\tWARNING insufficient_resources_manager.py:163 -- Ignore this message if the cluster is autoscaling. No trial is running and no new trial has been started within the last 60 seconds. This could be due to the cluster not having enough resources available. You asked for 5.0 CPUs and 0 GPUs per trial, but the cluster only has 2.0 CPUs and 0 GPUs available. Stop the tuning and adjust the required resources (e.g. via the `ScalingConfig` or `resources_per_trial`, or `num_workers` for rllib), or add more resources to your cluster.\n"
          ]
        },
        {
          "output_type": "stream",
          "name": "stdout",
          "text": [
            "Trial status: 2 PENDING\n",
            "Current time: 2023-12-07 02:34:46. Total running time: 21min 0s\n",
            "Logical resource usage: 0/2 CPUs, 0/0 GPUs\n",
            "+-----------------------------------------------------------------------------------------------------+\n",
            "| Trial name                    status       num_sgd_iter     sgd_minibatch_size     train_batch_size |\n",
            "+-----------------------------------------------------------------------------------------------------+\n",
            "| PPO_CartPole-v2_3fcda_00000   PENDING                20                    128                20000 |\n",
            "| PPO_CartPole-v2_3fcda_00001   PENDING                10                    512                40000 |\n",
            "+-----------------------------------------------------------------------------------------------------+\n",
            "Trial status: 2 PENDING\n",
            "Current time: 2023-12-07 02:35:16. Total running time: 21min 30s\n",
            "Logical resource usage: 0/2 CPUs, 0/0 GPUs\n",
            "+-----------------------------------------------------------------------------------------------------+\n",
            "| Trial name                    status       num_sgd_iter     sgd_minibatch_size     train_batch_size |\n",
            "+-----------------------------------------------------------------------------------------------------+\n",
            "| PPO_CartPole-v2_3fcda_00000   PENDING                20                    128                20000 |\n",
            "| PPO_CartPole-v2_3fcda_00001   PENDING                10                    512                40000 |\n",
            "+-----------------------------------------------------------------------------------------------------+\n"
          ]
        },
        {
          "output_type": "stream",
          "name": "stderr",
          "text": [
            "2023-12-07 02:35:46,207\tWARNING insufficient_resources_manager.py:163 -- Ignore this message if the cluster is autoscaling. No trial is running and no new trial has been started within the last 60 seconds. This could be due to the cluster not having enough resources available. You asked for 5.0 CPUs and 0 GPUs per trial, but the cluster only has 2.0 CPUs and 0 GPUs available. Stop the tuning and adjust the required resources (e.g. via the `ScalingConfig` or `resources_per_trial`, or `num_workers` for rllib), or add more resources to your cluster.\n"
          ]
        },
        {
          "output_type": "stream",
          "name": "stdout",
          "text": [
            "Trial status: 2 PENDING\n",
            "Current time: 2023-12-07 02:35:46. Total running time: 22min 0s\n",
            "Logical resource usage: 0/2 CPUs, 0/0 GPUs\n",
            "+-----------------------------------------------------------------------------------------------------+\n",
            "| Trial name                    status       num_sgd_iter     sgd_minibatch_size     train_batch_size |\n",
            "+-----------------------------------------------------------------------------------------------------+\n",
            "| PPO_CartPole-v2_3fcda_00000   PENDING                20                    128                20000 |\n",
            "| PPO_CartPole-v2_3fcda_00001   PENDING                10                    512                40000 |\n",
            "+-----------------------------------------------------------------------------------------------------+\n",
            "Trial status: 2 PENDING\n",
            "Current time: 2023-12-07 02:36:16. Total running time: 22min 31s\n",
            "Logical resource usage: 0/2 CPUs, 0/0 GPUs\n",
            "+-----------------------------------------------------------------------------------------------------+\n",
            "| Trial name                    status       num_sgd_iter     sgd_minibatch_size     train_batch_size |\n",
            "+-----------------------------------------------------------------------------------------------------+\n",
            "| PPO_CartPole-v2_3fcda_00000   PENDING                20                    128                20000 |\n",
            "| PPO_CartPole-v2_3fcda_00001   PENDING                10                    512                40000 |\n",
            "+-----------------------------------------------------------------------------------------------------+\n"
          ]
        },
        {
          "output_type": "stream",
          "name": "stderr",
          "text": [
            "2023-12-07 02:36:46,241\tWARNING insufficient_resources_manager.py:163 -- Ignore this message if the cluster is autoscaling. No trial is running and no new trial has been started within the last 60 seconds. This could be due to the cluster not having enough resources available. You asked for 5.0 CPUs and 0 GPUs per trial, but the cluster only has 2.0 CPUs and 0 GPUs available. Stop the tuning and adjust the required resources (e.g. via the `ScalingConfig` or `resources_per_trial`, or `num_workers` for rllib), or add more resources to your cluster.\n"
          ]
        },
        {
          "output_type": "stream",
          "name": "stdout",
          "text": [
            "Trial status: 2 PENDING\n",
            "Current time: 2023-12-07 02:36:46. Total running time: 23min 1s\n",
            "Logical resource usage: 0/2 CPUs, 0/0 GPUs\n",
            "+-----------------------------------------------------------------------------------------------------+\n",
            "| Trial name                    status       num_sgd_iter     sgd_minibatch_size     train_batch_size |\n",
            "+-----------------------------------------------------------------------------------------------------+\n",
            "| PPO_CartPole-v2_3fcda_00000   PENDING                20                    128                20000 |\n",
            "| PPO_CartPole-v2_3fcda_00001   PENDING                10                    512                40000 |\n",
            "+-----------------------------------------------------------------------------------------------------+\n",
            "Trial status: 2 PENDING\n",
            "Current time: 2023-12-07 02:37:16. Total running time: 23min 31s\n",
            "Logical resource usage: 0/2 CPUs, 0/0 GPUs\n",
            "+-----------------------------------------------------------------------------------------------------+\n",
            "| Trial name                    status       num_sgd_iter     sgd_minibatch_size     train_batch_size |\n",
            "+-----------------------------------------------------------------------------------------------------+\n",
            "| PPO_CartPole-v2_3fcda_00000   PENDING                20                    128                20000 |\n",
            "| PPO_CartPole-v2_3fcda_00001   PENDING                10                    512                40000 |\n",
            "+-----------------------------------------------------------------------------------------------------+\n"
          ]
        },
        {
          "output_type": "stream",
          "name": "stderr",
          "text": [
            "2023-12-07 02:37:46,282\tWARNING insufficient_resources_manager.py:163 -- Ignore this message if the cluster is autoscaling. No trial is running and no new trial has been started within the last 60 seconds. This could be due to the cluster not having enough resources available. You asked for 5.0 CPUs and 0 GPUs per trial, but the cluster only has 2.0 CPUs and 0 GPUs available. Stop the tuning and adjust the required resources (e.g. via the `ScalingConfig` or `resources_per_trial`, or `num_workers` for rllib), or add more resources to your cluster.\n"
          ]
        },
        {
          "output_type": "stream",
          "name": "stdout",
          "text": [
            "Trial status: 2 PENDING\n",
            "Current time: 2023-12-07 02:37:46. Total running time: 24min 1s\n",
            "Logical resource usage: 0/2 CPUs, 0/0 GPUs\n",
            "+-----------------------------------------------------------------------------------------------------+\n",
            "| Trial name                    status       num_sgd_iter     sgd_minibatch_size     train_batch_size |\n",
            "+-----------------------------------------------------------------------------------------------------+\n",
            "| PPO_CartPole-v2_3fcda_00000   PENDING                20                    128                20000 |\n",
            "| PPO_CartPole-v2_3fcda_00001   PENDING                10                    512                40000 |\n",
            "+-----------------------------------------------------------------------------------------------------+\n",
            "Trial status: 2 PENDING\n",
            "Current time: 2023-12-07 02:38:16. Total running time: 24min 31s\n",
            "Logical resource usage: 0/2 CPUs, 0/0 GPUs\n",
            "+-----------------------------------------------------------------------------------------------------+\n",
            "| Trial name                    status       num_sgd_iter     sgd_minibatch_size     train_batch_size |\n",
            "+-----------------------------------------------------------------------------------------------------+\n",
            "| PPO_CartPole-v2_3fcda_00000   PENDING                20                    128                20000 |\n",
            "| PPO_CartPole-v2_3fcda_00001   PENDING                10                    512                40000 |\n",
            "+-----------------------------------------------------------------------------------------------------+\n"
          ]
        },
        {
          "output_type": "stream",
          "name": "stderr",
          "text": [
            "2023-12-07 02:38:46,330\tWARNING insufficient_resources_manager.py:163 -- Ignore this message if the cluster is autoscaling. No trial is running and no new trial has been started within the last 60 seconds. This could be due to the cluster not having enough resources available. You asked for 5.0 CPUs and 0 GPUs per trial, but the cluster only has 2.0 CPUs and 0 GPUs available. Stop the tuning and adjust the required resources (e.g. via the `ScalingConfig` or `resources_per_trial`, or `num_workers` for rllib), or add more resources to your cluster.\n"
          ]
        },
        {
          "output_type": "stream",
          "name": "stdout",
          "text": [
            "Trial status: 2 PENDING\n",
            "Current time: 2023-12-07 02:38:46. Total running time: 25min 1s\n",
            "Logical resource usage: 0/2 CPUs, 0/0 GPUs\n",
            "+-----------------------------------------------------------------------------------------------------+\n",
            "| Trial name                    status       num_sgd_iter     sgd_minibatch_size     train_batch_size |\n",
            "+-----------------------------------------------------------------------------------------------------+\n",
            "| PPO_CartPole-v2_3fcda_00000   PENDING                20                    128                20000 |\n",
            "| PPO_CartPole-v2_3fcda_00001   PENDING                10                    512                40000 |\n",
            "+-----------------------------------------------------------------------------------------------------+\n",
            "Trial status: 2 PENDING\n",
            "Current time: 2023-12-07 02:39:16. Total running time: 25min 31s\n",
            "Logical resource usage: 0/2 CPUs, 0/0 GPUs\n",
            "+-----------------------------------------------------------------------------------------------------+\n",
            "| Trial name                    status       num_sgd_iter     sgd_minibatch_size     train_batch_size |\n",
            "+-----------------------------------------------------------------------------------------------------+\n",
            "| PPO_CartPole-v2_3fcda_00000   PENDING                20                    128                20000 |\n",
            "| PPO_CartPole-v2_3fcda_00001   PENDING                10                    512                40000 |\n",
            "+-----------------------------------------------------------------------------------------------------+\n"
          ]
        },
        {
          "output_type": "stream",
          "name": "stderr",
          "text": [
            "2023-12-07 02:39:46,370\tWARNING insufficient_resources_manager.py:163 -- Ignore this message if the cluster is autoscaling. No trial is running and no new trial has been started within the last 60 seconds. This could be due to the cluster not having enough resources available. You asked for 5.0 CPUs and 0 GPUs per trial, but the cluster only has 2.0 CPUs and 0 GPUs available. Stop the tuning and adjust the required resources (e.g. via the `ScalingConfig` or `resources_per_trial`, or `num_workers` for rllib), or add more resources to your cluster.\n"
          ]
        },
        {
          "output_type": "stream",
          "name": "stdout",
          "text": [
            "Trial status: 2 PENDING\n",
            "Current time: 2023-12-07 02:39:46. Total running time: 26min 1s\n",
            "Logical resource usage: 0/2 CPUs, 0/0 GPUs\n",
            "+-----------------------------------------------------------------------------------------------------+\n",
            "| Trial name                    status       num_sgd_iter     sgd_minibatch_size     train_batch_size |\n",
            "+-----------------------------------------------------------------------------------------------------+\n",
            "| PPO_CartPole-v2_3fcda_00000   PENDING                20                    128                20000 |\n",
            "| PPO_CartPole-v2_3fcda_00001   PENDING                10                    512                40000 |\n",
            "+-----------------------------------------------------------------------------------------------------+\n",
            "Trial status: 2 PENDING\n",
            "Current time: 2023-12-07 02:40:16. Total running time: 26min 31s\n",
            "Logical resource usage: 0/2 CPUs, 0/0 GPUs\n",
            "+-----------------------------------------------------------------------------------------------------+\n",
            "| Trial name                    status       num_sgd_iter     sgd_minibatch_size     train_batch_size |\n",
            "+-----------------------------------------------------------------------------------------------------+\n",
            "| PPO_CartPole-v2_3fcda_00000   PENDING                20                    128                20000 |\n",
            "| PPO_CartPole-v2_3fcda_00001   PENDING                10                    512                40000 |\n",
            "+-----------------------------------------------------------------------------------------------------+\n"
          ]
        },
        {
          "output_type": "stream",
          "name": "stderr",
          "text": [
            "2023-12-07 02:40:46,412\tWARNING insufficient_resources_manager.py:163 -- Ignore this message if the cluster is autoscaling. No trial is running and no new trial has been started within the last 60 seconds. This could be due to the cluster not having enough resources available. You asked for 5.0 CPUs and 0 GPUs per trial, but the cluster only has 2.0 CPUs and 0 GPUs available. Stop the tuning and adjust the required resources (e.g. via the `ScalingConfig` or `resources_per_trial`, or `num_workers` for rllib), or add more resources to your cluster.\n"
          ]
        },
        {
          "output_type": "stream",
          "name": "stdout",
          "text": [
            "Trial status: 2 PENDING\n",
            "Current time: 2023-12-07 02:40:46. Total running time: 27min 1s\n",
            "Logical resource usage: 0/2 CPUs, 0/0 GPUs\n",
            "+-----------------------------------------------------------------------------------------------------+\n",
            "| Trial name                    status       num_sgd_iter     sgd_minibatch_size     train_batch_size |\n",
            "+-----------------------------------------------------------------------------------------------------+\n",
            "| PPO_CartPole-v2_3fcda_00000   PENDING                20                    128                20000 |\n",
            "| PPO_CartPole-v2_3fcda_00001   PENDING                10                    512                40000 |\n",
            "+-----------------------------------------------------------------------------------------------------+\n",
            "Trial status: 2 PENDING\n",
            "Current time: 2023-12-07 02:41:16. Total running time: 27min 31s\n",
            "Logical resource usage: 0/2 CPUs, 0/0 GPUs\n",
            "+-----------------------------------------------------------------------------------------------------+\n",
            "| Trial name                    status       num_sgd_iter     sgd_minibatch_size     train_batch_size |\n",
            "+-----------------------------------------------------------------------------------------------------+\n",
            "| PPO_CartPole-v2_3fcda_00000   PENDING                20                    128                20000 |\n",
            "| PPO_CartPole-v2_3fcda_00001   PENDING                10                    512                40000 |\n",
            "+-----------------------------------------------------------------------------------------------------+\n"
          ]
        },
        {
          "output_type": "stream",
          "name": "stderr",
          "text": [
            "2023-12-07 02:41:46,452\tWARNING insufficient_resources_manager.py:163 -- Ignore this message if the cluster is autoscaling. No trial is running and no new trial has been started within the last 60 seconds. This could be due to the cluster not having enough resources available. You asked for 5.0 CPUs and 0 GPUs per trial, but the cluster only has 2.0 CPUs and 0 GPUs available. Stop the tuning and adjust the required resources (e.g. via the `ScalingConfig` or `resources_per_trial`, or `num_workers` for rllib), or add more resources to your cluster.\n"
          ]
        },
        {
          "output_type": "stream",
          "name": "stdout",
          "text": [
            "Trial status: 2 PENDING\n",
            "Current time: 2023-12-07 02:41:46. Total running time: 28min 1s\n",
            "Logical resource usage: 0/2 CPUs, 0/0 GPUs\n",
            "+-----------------------------------------------------------------------------------------------------+\n",
            "| Trial name                    status       num_sgd_iter     sgd_minibatch_size     train_batch_size |\n",
            "+-----------------------------------------------------------------------------------------------------+\n",
            "| PPO_CartPole-v2_3fcda_00000   PENDING                20                    128                20000 |\n",
            "| PPO_CartPole-v2_3fcda_00001   PENDING                10                    512                40000 |\n",
            "+-----------------------------------------------------------------------------------------------------+\n",
            "Trial status: 2 PENDING\n",
            "Current time: 2023-12-07 02:42:16. Total running time: 28min 31s\n",
            "Logical resource usage: 0/2 CPUs, 0/0 GPUs\n",
            "+-----------------------------------------------------------------------------------------------------+\n",
            "| Trial name                    status       num_sgd_iter     sgd_minibatch_size     train_batch_size |\n",
            "+-----------------------------------------------------------------------------------------------------+\n",
            "| PPO_CartPole-v2_3fcda_00000   PENDING                20                    128                20000 |\n",
            "| PPO_CartPole-v2_3fcda_00001   PENDING                10                    512                40000 |\n",
            "+-----------------------------------------------------------------------------------------------------+\n"
          ]
        },
        {
          "output_type": "stream",
          "name": "stderr",
          "text": [
            "2023-12-07 02:42:46,515\tWARNING insufficient_resources_manager.py:163 -- Ignore this message if the cluster is autoscaling. No trial is running and no new trial has been started within the last 60 seconds. This could be due to the cluster not having enough resources available. You asked for 5.0 CPUs and 0 GPUs per trial, but the cluster only has 2.0 CPUs and 0 GPUs available. Stop the tuning and adjust the required resources (e.g. via the `ScalingConfig` or `resources_per_trial`, or `num_workers` for rllib), or add more resources to your cluster.\n"
          ]
        },
        {
          "output_type": "stream",
          "name": "stdout",
          "text": [
            "Trial status: 2 PENDING\n",
            "Current time: 2023-12-07 02:42:46. Total running time: 29min 1s\n",
            "Logical resource usage: 0/2 CPUs, 0/0 GPUs\n",
            "+-----------------------------------------------------------------------------------------------------+\n",
            "| Trial name                    status       num_sgd_iter     sgd_minibatch_size     train_batch_size |\n",
            "+-----------------------------------------------------------------------------------------------------+\n",
            "| PPO_CartPole-v2_3fcda_00000   PENDING                20                    128                20000 |\n",
            "| PPO_CartPole-v2_3fcda_00001   PENDING                10                    512                40000 |\n",
            "+-----------------------------------------------------------------------------------------------------+\n"
          ]
        },
        {
          "output_type": "stream",
          "name": "stderr",
          "text": [
            "2023-12-07 02:42:47,424\tWARNING tune.py:186 -- Stop signal received (e.g. via SIGINT/Ctrl+C), ending Ray Tune run. This will try to checkpoint the experiment state one last time. Press CTRL+C (or send SIGINT/SIGKILL/SIGTERM) to skip. \n",
            "2023-12-07 02:42:47,439\tWARNING tune.py:1062 -- Experiment has been interrupted, but the most recent state was saved.\n",
            "Resume experiment with: Tuner.restore(path=\"/root/ray_results/PPO_2023-12-07_02-13-45\", trainable=...)\n",
            "2023-12-07 02:42:47,447\tWARNING experiment_analysis.py:185 -- Failed to fetch metrics for 2 trial(s):\n",
            "- PPO_CartPole-v2_3fcda_00000: FileNotFoundError('Could not fetch metrics for PPO_CartPole-v2_3fcda_00000: both result.json and progress.csv were not found at /root/ray_results/PPO_2023-12-07_02-13-45/PPO_CartPole-v2_3fcda_00000_0_num_sgd_iter=20,sgd_minibatch_size=128,train_batch_size=20000_2023-12-07_02-13-45')\n",
            "- PPO_CartPole-v2_3fcda_00001: FileNotFoundError('Could not fetch metrics for PPO_CartPole-v2_3fcda_00001: both result.json and progress.csv were not found at /root/ray_results/PPO_2023-12-07_02-13-45/PPO_CartPole-v2_3fcda_00001_1_num_sgd_iter=10,sgd_minibatch_size=512,train_batch_size=40000_2023-12-07_02-13-45')\n"
          ]
        },
        {
          "output_type": "stream",
          "name": "stdout",
          "text": [
            "Trial status: 2 PENDING\n",
            "Current time: 2023-12-07 02:42:47. Total running time: 29min 2s\n",
            "Logical resource usage: 0/2 CPUs, 0/0 GPUs\n",
            "+-----------------------------------------------------------------------------------------------------+\n",
            "| Trial name                    status       num_sgd_iter     sgd_minibatch_size     train_batch_size |\n",
            "+-----------------------------------------------------------------------------------------------------+\n",
            "| PPO_CartPole-v2_3fcda_00000   PENDING                20                    128                20000 |\n",
            "| PPO_CartPole-v2_3fcda_00001   PENDING                10                    512                40000 |\n",
            "+-----------------------------------------------------------------------------------------------------+\n",
            "\n"
          ]
        }
      ]
    },
    {
      "cell_type": "code",
      "source": [
        "import pprint\n",
        "\n",
        "best_result = results.get_best_result()\n",
        "\n",
        "print(\"Best performing trial's final set of hyperparameters:\\n\")\n",
        "pprint.pprint(\n",
        "    {k: v for k, v in best_result.config.items() if k in hyperparam_mutations}\n",
        ")\n",
        "\n",
        "print(\"\\nBest performing trial's final reported metrics:\\n\")\n",
        "\n",
        "metrics_to_print = [\n",
        "    \"episode_reward_mean\",\n",
        "    \"episode_reward_max\",\n",
        "    \"episode_reward_min\",\n",
        "    \"episode_len_mean\",\n",
        "]\n",
        "pprint.pprint({k: v for k, v in best_result.metrics.items() if k in metrics_to_print})"
      ],
      "metadata": {
        "colab": {
          "base_uri": "https://localhost:8080/",
          "height": 403
        },
        "id": "dL10lB9PCfBK",
        "outputId": "95249226-4b62-42ef-c729-3b732830972d"
      },
      "execution_count": 12,
      "outputs": [
        {
          "output_type": "stream",
          "name": "stderr",
          "text": [
            "2023-12-07 02:42:47,477\tWARNING experiment_analysis.py:575 -- Could not find best trial. Did you pass the correct `metric` parameter?\n"
          ]
        },
        {
          "output_type": "error",
          "ename": "RuntimeError",
          "evalue": "ignored",
          "traceback": [
            "\u001b[0;31m---------------------------------------------------------------------------\u001b[0m",
            "\u001b[0;31mRuntimeError\u001b[0m                              Traceback (most recent call last)",
            "\u001b[0;32m<ipython-input-12-7f8fc609a069>\u001b[0m in \u001b[0;36m<cell line: 3>\u001b[0;34m()\u001b[0m\n\u001b[1;32m      1\u001b[0m \u001b[0;32mimport\u001b[0m \u001b[0mpprint\u001b[0m\u001b[0;34m\u001b[0m\u001b[0;34m\u001b[0m\u001b[0m\n\u001b[1;32m      2\u001b[0m \u001b[0;34m\u001b[0m\u001b[0m\n\u001b[0;32m----> 3\u001b[0;31m \u001b[0mbest_result\u001b[0m \u001b[0;34m=\u001b[0m \u001b[0mresults\u001b[0m\u001b[0;34m.\u001b[0m\u001b[0mget_best_result\u001b[0m\u001b[0;34m(\u001b[0m\u001b[0;34m)\u001b[0m\u001b[0;34m\u001b[0m\u001b[0;34m\u001b[0m\u001b[0m\n\u001b[0m\u001b[1;32m      4\u001b[0m \u001b[0;34m\u001b[0m\u001b[0m\n\u001b[1;32m      5\u001b[0m \u001b[0mprint\u001b[0m\u001b[0;34m(\u001b[0m\u001b[0;34m\"Best performing trial's final set of hyperparameters:\\n\"\u001b[0m\u001b[0;34m)\u001b[0m\u001b[0;34m\u001b[0m\u001b[0;34m\u001b[0m\u001b[0m\n",
            "\u001b[0;32m/usr/local/lib/python3.10/dist-packages/ray/tune/result_grid.py\u001b[0m in \u001b[0;36mget_best_result\u001b[0;34m(self, metric, mode, scope, filter_nan_and_inf)\u001b[0m\n\u001b[1;32m    160\u001b[0m                 \u001b[0;32melse\u001b[0m \u001b[0;34m\".\"\u001b[0m\u001b[0;34m\u001b[0m\u001b[0;34m\u001b[0m\u001b[0m\n\u001b[1;32m    161\u001b[0m             )\n\u001b[0;32m--> 162\u001b[0;31m             \u001b[0;32mraise\u001b[0m \u001b[0mRuntimeError\u001b[0m\u001b[0;34m(\u001b[0m\u001b[0merror_msg\u001b[0m\u001b[0;34m)\u001b[0m\u001b[0;34m\u001b[0m\u001b[0;34m\u001b[0m\u001b[0m\n\u001b[0m\u001b[1;32m    163\u001b[0m \u001b[0;34m\u001b[0m\u001b[0m\n\u001b[1;32m    164\u001b[0m         \u001b[0;32mreturn\u001b[0m \u001b[0mself\u001b[0m\u001b[0;34m.\u001b[0m\u001b[0m_trial_to_result\u001b[0m\u001b[0;34m(\u001b[0m\u001b[0mbest_trial\u001b[0m\u001b[0;34m)\u001b[0m\u001b[0;34m\u001b[0m\u001b[0;34m\u001b[0m\u001b[0m\n",
            "\u001b[0;31mRuntimeError\u001b[0m: No best trial found for the given metric: episode_reward_mean. This means that no trial has reported this metric, or all values reported for this metric are NaN. To not ignore NaN values, you can set the `filter_nan_and_inf` arg to False."
          ]
        }
      ]
    },
    {
      "cell_type": "code",
      "source": [
        "from ray.rllib.algorithms.algorithm import Algorithm\n",
        "\n",
        "loaded_ppo = Algorithm.from_checkpoint(best_result.checkpoint)\n",
        "loaded_policy = loaded_ppo.get_policy()\n",
        "\n",
        "# See your trained policy in action\n",
        "# loaded_policy.compute_single_action(...)"
      ],
      "metadata": {
        "id": "Ep0wkt2ZChbJ"
      },
      "execution_count": null,
      "outputs": []
    }
  ]
}